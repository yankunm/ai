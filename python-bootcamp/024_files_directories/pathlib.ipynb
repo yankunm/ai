{
 "cells": [
  {
   "cell_type": "code",
   "execution_count": 2,
   "id": "63b8af7a",
   "metadata": {},
   "outputs": [],
   "source": [
    "from pathlib import Path"
   ]
  },
  {
   "cell_type": "code",
   "execution_count": 5,
   "id": "0e61fa41",
   "metadata": {},
   "outputs": [
    {
     "name": "stdout",
     "output_type": "stream",
     "text": [
      "/Users/yankunmeng/Dev/ai/python-bootcamp/024_files_directories\n"
     ]
    }
   ],
   "source": [
    "# print the current working directory\n",
    "print(Path.cwd())"
   ]
  },
  {
   "cell_type": "code",
   "execution_count": null,
   "id": "0afbd9ae",
   "metadata": {},
   "outputs": [
    {
     "data": {
      "text/plain": [
       "<generator object Path.iterdir at 0x1043e8eb0>"
      ]
     },
     "execution_count": 4,
     "metadata": {},
     "output_type": "execute_result"
    }
   ],
   "source": [
    "# create an iterator of all files in the current directory\n",
    "Path().iterdir() "
   ]
  },
  {
   "cell_type": "code",
   "execution_count": 9,
   "id": "447f983e",
   "metadata": {},
   "outputs": [
    {
     "name": "stdout",
     "output_type": "stream",
     "text": [
      "main024.py\n",
      "README.md\n",
      "pathlib.ipynb\n"
     ]
    }
   ],
   "source": [
    "# print all file names in the current directory\n",
    "for file in Path().iterdir():\n",
    "    print(file)"
   ]
  },
  {
   "cell_type": "code",
   "execution_count": null,
   "id": "950a3202",
   "metadata": {},
   "outputs": [],
   "source": []
  },
  {
   "cell_type": "code",
   "execution_count": 17,
   "id": "eaedb32d",
   "metadata": {},
   "outputs": [
    {
     "name": "stdout",
     "output_type": "stream",
     "text": [
      "True\n",
      ".md\n",
      "README\n"
     ]
    }
   ],
   "source": [
    "my_file = Path(\"README.md\")\n",
    "print(my_file.exists())  # check if the file exists\n",
    "print(my_file.suffix)  # get the file extension\n",
    "print(my_file.stem)  # get the file name without extension"
   ]
  },
  {
   "cell_type": "code",
   "execution_count": null,
   "id": "af70baf5",
   "metadata": {},
   "outputs": [],
   "source": []
  }
 ],
 "metadata": {
  "kernelspec": {
   "display_name": "ai",
   "language": "python",
   "name": "python3"
  },
  "language_info": {
   "codemirror_mode": {
    "name": "ipython",
    "version": 3
   },
   "file_extension": ".py",
   "mimetype": "text/x-python",
   "name": "python",
   "nbconvert_exporter": "python",
   "pygments_lexer": "ipython3",
   "version": "3.10.18"
  }
 },
 "nbformat": 4,
 "nbformat_minor": 5
}
